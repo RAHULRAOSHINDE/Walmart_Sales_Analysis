{
 "cells": [
  {
   "cell_type": "code",
   "execution_count": null,
   "id": "3448bd5a-d7dd-48cc-83f3-23a39c29c02a",
   "metadata": {},
   "outputs": [],
   "source": [
    "!apt-get update\n",
    "\n",
    "import os\n",
    "import csv\n",
    "from datetime import datetime\n",
    "import re\n",
    "import numpy as np\n",
    "import pandas as pd"
   ]
  },
  {
   "cell_type": "code",
   "execution_count": null,
   "id": "cd4e38c6-2c3d-4ba4-9bbd-b61053279c45",
   "metadata": {},
   "outputs": [],
   "source": [
    "#converting excel file to dataframe \n",
    "sales_df=pd.DataFrame(pd.read_excel(\"WalmartSales_1D4B9EA390.xlsx\"))"
   ]
  },
  {
   "cell_type": "markdown",
   "id": "b7d5b614-eb21-4ebf-9e1a-47085fc50c1b",
   "metadata": {},
   "source": [
    "To analyze the performance of sales and revenue at the city and branch level"
   ]
  },
  {
   "cell_type": "code",
   "execution_count": null,
   "id": "69e26a35-3559-4d87-a6ed-58f17911cb3e",
   "metadata": {},
   "outputs": [],
   "source": [
    "#calculate total revenue \n",
    "sales_df['Total_Revenue']=sales_df['Unit price']*sales_df['Quantity']\n",
    "\n",
    "\n",
    "performance=sales_df.groupby(\n",
    "    ['City','Branch']).agg(\n",
    "        total_sales=('Invoice ID','count'),\n",
    "        total_revenue=('Total_Revenue','sum'),\n",
    "        avg_rating=('Rating','mean')\n",
    "    ).reset_index().round(2)\n",
    "\n",
    "\n",
    "#saving it to csv\n",
    "performance.to_csv('/root/Desktop/sales/Output/sales_revenue_performance.csv',na_rep='NaN')"
   ]
  },
  {
   "cell_type": "markdown",
   "id": "f05823d8-fa8b-4d5a-9fb8-307f1dbd8e06",
   "metadata": {},
   "source": [
    "What is the average price of an item sold at each branch of the city"
   ]
  },
  {
   "cell_type": "code",
   "execution_count": null,
   "id": "e77c47ec-38aa-4561-84f5-0ee2e0dcde23",
   "metadata": {},
   "outputs": [],
   "source": [
    "branch_avg_price=sales_df.groupby(\n",
    "    ['City','Branch']).agg(\n",
    "    avg_price=('Unit price','mean')\n",
    ").reset_index().round(2)\n",
    "\n",
    "\n",
    "#saving it to csv\n",
    "branch_avg_price.to_csv('/root/Desktop/sales/Output/branch_avg_price.csv',na_rep='NaN')"
   ]
  },
  {
   "cell_type": "markdown",
   "id": "29de31ad-120c-4526-beaf-8ca55510b948",
   "metadata": {},
   "source": [
    "Analyze the performance of sales and revenue, Month over Month across the Product line, Gender, and Payment Method, and identify the focus areas to get better sales for April 2019."
   ]
  },
  {
   "cell_type": "code",
   "execution_count": null,
   "id": "b186b43b-3cef-43a5-b0a0-db9b8ac5ac5f",
   "metadata": {},
   "outputs": [],
   "source": [
    "#converitng date format\n",
    "sales_df['Sales_Date'] = pd.to_datetime(sales_df['Date'], format='%m/%d/%Y')\n",
    "\n",
    "#extracting the month from the date\n",
    "sales_df['Month'] = sales_df['Sales_Date'].dt.strftime('%m')\n",
    "\n",
    "#removing unnecessary column\n",
    "sales_df.drop(['Sales_Date'],axis=1,inplace=True)\n",
    "\n",
    "#monthly sales\n",
    "monthly_sales = (\n",
    "    sales_df.groupby(['Month', 'Product line', 'Gender', 'Payment'])\n",
    "    .agg(\n",
    "        Total_Revenue=('Total_Revenue', 'sum'),\n",
    "        Total_Sales=('Invoice ID', 'count'),\n",
    "        Avg_Rating=('Rating', 'mean')\n",
    "    )\n",
    "    .reset_index()\n",
    "    .sort_values(by=['Month', 'Product line', 'Gender', 'Payment'])\n",
    ")\n",
    "\n",
    "\n",
    "#previous month revrenue\n",
    "monthly_sales['Previous_Month_Revenue']=monthly_sales['Total_Revenue'].shift(1)\n",
    "\n",
    "#previous month sales\n",
    "monthly_sales['Previous_Month_Sales']=monthly_sales['Total_Sales'].shift(1)\n",
    "\n",
    "#change in revenue\n",
    "monthly_sales['Revenue_Change']=monthly_sales['Total_Revenue']-monthly_sales['Previous_Month_Revenue']\n",
    "\n",
    "#change in sales \n",
    "monthly_sales['Sales_Change']=monthly_sales['Total_Sales']-monthly_sales['Previous_Month_Sales']\n",
    "\n",
    "#filtering data which has negative values\n",
    "focus_areas=monthly_sales[((monthly_sales['Revenue_Change'] < 0) | (monthly_sales['Sales_Change']<0))].round(2)\n",
    "\n",
    "#sorting results with most heavy declines\n",
    "focus_areas=focus_areas.sort_values(by=['Revenue_Change','Sales_Change'])\n",
    "\n",
    "#saving it to csv\n",
    "focus_areas.to_csv('/root/Desktop/sales/Output/focus_areas_april_2019.csv',na_rep='NaN')"
   ]
  }
 ],
 "metadata": {
  "kernelspec": {
   "display_name": "Python 3 (ipykernel)",
   "language": "python",
   "name": "python3"
  },
  "language_info": {
   "codemirror_mode": {
    "name": "ipython",
    "version": 3
   },
   "file_extension": ".py",
   "mimetype": "text/x-python",
   "name": "python",
   "nbconvert_exporter": "python",
   "pygments_lexer": "ipython3",
   "version": "3.8.10"
  }
 },
 "nbformat": 4,
 "nbformat_minor": 5
}
